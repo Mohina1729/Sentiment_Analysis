{
  "cells": [
    {
      "cell_type": "code",
      "execution_count": null,
      "metadata": {
        "id": "KnOZ6Hdk-PSR"
      },
      "outputs": [],
      "source": [
        "import numpy as np\n",
        "import time\n",
        "import matplotlib.pyplot as plt\n",
        "import pandas as pd\n",
        "import seaborn as sns\n",
        "import math\n",
        "import re\n",
        "import nltk\n",
        "from nltk.corpus import stopwords\n",
        "import torch\n",
        "import torch.nn as nn\n",
        "import torch.optim as optim\n",
        "from torch.utils.data import DataLoader, TensorDataset\n",
        "import random\n",
        "import torch.nn.functional as F\n",
        "from tensorflow.keras.preprocessing.text import Tokenizer\n",
        "from tensorflow.keras.preprocessing.sequence import pad_sequences\n",
        "from sklearn.metrics import accuracy_score\n",
        "from sklearn.model_selection import train_test_split\n",
        "from sklearn.metrics import confusion_matrix, classification_report"
      ]
    },
    {
      "cell_type": "code",
      "execution_count": null,
      "metadata": {
        "colab": {
          "base_uri": "https://localhost:8080/"
        },
        "id": "eN41hXas-Q5o",
        "outputId": "f898a597-949d-46a1-89d5-0de1febf307b"
      },
      "outputs": [
        {
          "output_type": "stream",
          "name": "stderr",
          "text": [
            "[nltk_data] Downloading package stopwords to /root/nltk_data...\n",
            "[nltk_data]   Unzipping corpora/stopwords.zip.\n",
            "[nltk_data] Downloading package punkt to /root/nltk_data...\n",
            "[nltk_data]   Unzipping tokenizers/punkt.zip.\n"
          ]
        },
        {
          "output_type": "execute_result",
          "data": {
            "text/plain": [
              "True"
            ]
          },
          "metadata": {},
          "execution_count": 2
        }
      ],
      "source": [
        "nltk.download('stopwords')\n",
        "nltk.download('punkt')"
      ]
    },
    {
      "cell_type": "code",
      "execution_count": null,
      "metadata": {
        "id": "XeRQe8R4-WGk"
      },
      "outputs": [],
      "source": [
        "def remove_punctuation(text):\n",
        "    return re.sub(r'[^\\w\\s]', '', text)\n",
        "\n",
        "def convert_to_lowercase(text):\n",
        "    return text.lower()\n",
        "\n",
        "def remove_stopwords(text):\n",
        "    stop_words = set(stopwords.words('english'))\n",
        "    words = nltk.word_tokenize(text)\n",
        "    filtered_words = [word for word in words if word.lower() not in stop_words]\n",
        "    return ' '.join(filtered_words)\n",
        "\n",
        "def map_stars_to_sentiment(stars):\n",
        "    if stars > 3:\n",
        "        return 'positive'\n",
        "    elif stars <= 2:\n",
        "        return 'negative'\n",
        "    else:\n",
        "        return 'neutral'"
      ]
    },
    {
      "cell_type": "code",
      "source": [
        "from google.colab import drive\n",
        "\n",
        "# Mount Google Drive\n",
        "drive.mount('/content/drive')"
      ],
      "metadata": {
        "colab": {
          "base_uri": "https://localhost:8080/"
        },
        "id": "pXT085-5ZzrE",
        "outputId": "620cbf9c-5387-4c99-9d3e-6db5449c20a5"
      },
      "execution_count": null,
      "outputs": [
        {
          "output_type": "stream",
          "name": "stdout",
          "text": [
            "Mounted at /content/drive\n"
          ]
        }
      ]
    },
    {
      "cell_type": "code",
      "execution_count": null,
      "metadata": {
        "id": "unQBcN33-clh"
      },
      "outputs": [],
      "source": [
        "# Load Yelp review dataset\n",
        "train_data = pd.read_csv('/content/drive/MyDrive/yelp_review_train.csv')  # Replace with your actual file path\n",
        "test_data = pd.read_csv('/content/drive/MyDrive/yelp_review_test.csv')\n"
      ]
    },
    {
      "cell_type": "code",
      "execution_count": null,
      "metadata": {
        "colab": {
          "base_uri": "https://localhost:8080/"
        },
        "id": "Pq9zEdF2-rXe",
        "outputId": "099f9b4e-20dd-4731-f118-9ef8a7e75547"
      },
      "outputs": [
        {
          "output_type": "stream",
          "name": "stdout",
          "text": [
            "<bound method NDFrame.head of                                                      text  stars\n",
            "0       Went for lunch and found that my burger was me...    2.0\n",
            "1       I needed a new tires for my wife's car. They h...    5.0\n",
            "2       Jim Woltman who works at Goleta Honda is 5 sta...    5.0\n",
            "3       Been here a few times to get some shrimp.  The...    4.0\n",
            "4       This is one fantastic place to eat whether you...    5.0\n",
            "...                                                   ...    ...\n",
            "174752  Oy. Not great, partially my fault but holy smo...    2.0\n",
            "174753  I'm a huge fan of Chocolate Maya! High quality...    5.0\n",
            "174754  Hosted our Wedding Ceremony here and could hav...    5.0\n",
            "174755  I love this place!!! They have fantastic lunch...    5.0\n",
            "174756  So happy with the service and food. One of the...    5.0\n",
            "\n",
            "[174757 rows x 2 columns]>\n"
          ]
        }
      ],
      "source": [
        "print(train_data.head)"
      ]
    },
    {
      "cell_type": "code",
      "execution_count": null,
      "metadata": {
        "id": "twr5xqPC-sEz"
      },
      "outputs": [],
      "source": [
        "train_data['text'] = train_data['text'].apply(remove_punctuation)\n",
        "train_data['text'] = train_data['text'].apply(convert_to_lowercase)\n",
        "train_data['text'] = train_data['text'].apply(remove_stopwords)\n",
        "train_data['sentiment'] = train_data['stars'].apply(map_stars_to_sentiment)"
      ]
    },
    {
      "cell_type": "code",
      "execution_count": null,
      "metadata": {
        "id": "ZM_x1dyE_Cl2"
      },
      "outputs": [],
      "source": [
        "test_data['text'] = test_data['text'].apply(remove_punctuation)\n",
        "test_data['text'] = test_data['text'].apply(convert_to_lowercase)\n",
        "test_data['text'] = test_data['text'].apply(remove_stopwords)\n",
        "test_data['sentiment'] = test_data['stars'].apply(map_stars_to_sentiment)"
      ]
    },
    {
      "cell_type": "code",
      "execution_count": null,
      "metadata": {
        "colab": {
          "base_uri": "https://localhost:8080/"
        },
        "id": "M_04A0ML_FUb",
        "outputId": "4755eba9-188b-4f40-f931-9cf5d8104b8d"
      },
      "outputs": [
        {
          "output_type": "stream",
          "name": "stdout",
          "text": [
            "                                                text  stars sentiment\n",
            "0  hidden treasure awesome service delicious food...    5.0  positive\n",
            "1  family patients since 5 years old 34 trust qua...    5.0  positive\n",
            "2  rarely get pedicures blue nails practice combi...    5.0  positive\n",
            "3  came large group may items missing menu lobste...    2.0  negative\n",
            "4  view great morgans pier bartenders even good s...    2.0  negative\n"
          ]
        }
      ],
      "source": [
        "print(test_data.head())"
      ]
    },
    {
      "cell_type": "code",
      "execution_count": null,
      "metadata": {
        "colab": {
          "base_uri": "https://localhost:8080/"
        },
        "id": "n5l2MeyN_Ir1",
        "outputId": "a610ae9c-ab6a-4cf8-ab1d-805efbfed1ef"
      },
      "outputs": [
        {
          "output_type": "stream",
          "name": "stdout",
          "text": [
            "                                                text  stars sentiment\n",
            "0  went lunch found burger meh obvious focus burg...    2.0  negative\n",
            "1  needed new tires wifes car special order next ...    5.0  positive\n",
            "2  jim woltman works goleta honda 5 stars knowled...    5.0  positive\n",
            "3  times get shrimp theyve got nice selection dif...    4.0  positive\n",
            "4  one fantastic place eat whether hungry need go...    5.0  positive\n"
          ]
        }
      ],
      "source": [
        "print(train_data.head())"
      ]
    },
    {
      "cell_type": "code",
      "execution_count": null,
      "metadata": {
        "id": "0wXILIo8_NaY"
      },
      "outputs": [],
      "source": [
        "texts = train_data['text'].tolist()\n",
        "\n",
        "tokenizer = Tokenizer()\n",
        "tokenizer.fit_on_texts(texts)\n",
        "\n",
        "vocab_size = len(tokenizer.word_index) + 1\n"
      ]
    },
    {
      "cell_type": "code",
      "execution_count": null,
      "metadata": {
        "id": "O0UEjy-q_QUc"
      },
      "outputs": [],
      "source": [
        "max_seq_length = 100\n",
        "sequences = tokenizer.texts_to_sequences(texts)\n",
        "padded_sequences = pad_sequences(sequences, maxlen=max_seq_length, padding='post', truncating='post')"
      ]
    },
    {
      "cell_type": "code",
      "execution_count": null,
      "metadata": {
        "id": "Ul-Ia4l9_TbE"
      },
      "outputs": [],
      "source": [
        "sentiment_mapping = {'positive': 0, 'negative': 1, 'neutral': 2}\n",
        "train_data['sentiment_label'] = train_data['sentiment'].map(sentiment_mapping)"
      ]
    },
    {
      "cell_type": "code",
      "execution_count": null,
      "metadata": {
        "id": "ar2g7sjK_Zwn"
      },
      "outputs": [],
      "source": [
        "test_texts = test_data['text'].tolist()\n",
        "test_tokenizer = Tokenizer()\n",
        "test_tokenizer.fit_on_texts(test_texts)\n",
        "test_vocab_size = len(tokenizer.word_index) + 1"
      ]
    },
    {
      "cell_type": "code",
      "execution_count": null,
      "metadata": {
        "id": "UlQvO7gU_chI"
      },
      "outputs": [],
      "source": [
        "max_seq_length = 100\n",
        "test_sequences = tokenizer.texts_to_sequences(test_texts)\n",
        "test_padded_sequences = pad_sequences(test_sequences, maxlen=max_seq_length, padding='post', truncating='post')"
      ]
    },
    {
      "cell_type": "code",
      "execution_count": null,
      "metadata": {
        "id": "xxsJhw5Q_gn8"
      },
      "outputs": [],
      "source": [
        "test_data['sentiment_label'] = test_data['sentiment'].map(sentiment_mapping)"
      ]
    },
    {
      "cell_type": "code",
      "execution_count": null,
      "metadata": {
        "colab": {
          "base_uri": "https://localhost:8080/"
        },
        "id": "qpok9bgn_jT_",
        "outputId": "b8d80763-39c0-449e-a09d-79a77ef0e4e1"
      },
      "outputs": [
        {
          "output_type": "stream",
          "name": "stdout",
          "text": [
            "<bound method NDFrame.head of                                                      text  stars sentiment  \\\n",
            "0       went lunch found burger meh obvious focus burg...    2.0  negative   \n",
            "1       needed new tires wifes car special order next ...    5.0  positive   \n",
            "2       jim woltman works goleta honda 5 stars knowled...    5.0  positive   \n",
            "3       times get shrimp theyve got nice selection dif...    4.0  positive   \n",
            "4       one fantastic place eat whether hungry need go...    5.0  positive   \n",
            "...                                                   ...    ...       ...   \n",
            "174752  oy great partially fault holy smokes daughter ...    2.0  negative   \n",
            "174753  im huge fan chocolate maya high quality ingred...    5.0  positive   \n",
            "174754  hosted wedding ceremony could happier everythi...    5.0  positive   \n",
            "174755  love place fantastic lunch specials get 3 roll...    5.0  positive   \n",
            "174756  happy service food one best tasting turkey bur...    5.0  positive   \n",
            "\n",
            "        sentiment_label  \n",
            "0                     1  \n",
            "1                     0  \n",
            "2                     0  \n",
            "3                     0  \n",
            "4                     0  \n",
            "...                 ...  \n",
            "174752                1  \n",
            "174753                0  \n",
            "174754                0  \n",
            "174755                0  \n",
            "174756                0  \n",
            "\n",
            "[174757 rows x 4 columns]>\n"
          ]
        }
      ],
      "source": [
        "print(train_data.head)"
      ]
    },
    {
      "cell_type": "code",
      "execution_count": null,
      "metadata": {
        "id": "h1ylgJwX_qoH"
      },
      "outputs": [],
      "source": [
        "class MultiHeadAttention(nn.Module):\n",
        "    def __init__(self, d_model, n_heads):\n",
        "        super(MultiHeadAttention, self).__init__()\n",
        "        self.d_model = d_model\n",
        "        self.n_heads = n_heads\n",
        "        self.head_dim = d_model // n_heads\n",
        "\n",
        "        self.query = nn.Linear(d_model, d_model)\n",
        "        self.key = nn.Linear(d_model, d_model)\n",
        "        self.value = nn.Linear(d_model, d_model)\n",
        "\n",
        "        self.fc_out = nn.Linear(d_model, d_model)\n",
        "\n",
        "    def forward(self, query, key, value, mask):\n",
        "        # Getting the number of training examples\n",
        "        batch_size = query.shape[0]\n",
        "\n",
        "        # Performing linear transformation and split into heads\n",
        "        Q = self.query(query).view(batch_size, -1, self.n_heads, self.head_dim)\n",
        "        K = self.key(key).view(batch_size, -1, self.n_heads, self.head_dim)\n",
        "        V = self.value(value).view(batch_size, -1, self.n_heads, self.head_dim)\n",
        "\n",
        "        # Transposing to get dimensions [batch_size, n_heads, seq_len, head_dim]\n",
        "        Q = Q.transpose(1, 2)\n",
        "        K = K.transpose(1, 2)\n",
        "        V = V.transpose(1, 2)\n",
        "\n",
        "        # Calculating attention scores\n",
        "        scores = torch.matmul(Q, K.transpose(-2, -1)) / torch.sqrt(torch.tensor(self.head_dim, dtype=torch.float32))\n",
        "\n",
        "        # Applying mask to prevent attention to padded tokens\n",
        "        scores = scores.masked_fill(mask == 0, float('-inf'))\n",
        "\n",
        "        # Applying softmax to get attention weights\n",
        "        attention_weights = F.softmax(scores, dim=-1)\n",
        "\n",
        "        # Applying attention weights to value\n",
        "        output = torch.matmul(attention_weights, V)\n",
        "\n",
        "        # Transposing to get dimensions [batch_size, seq_len, n_heads, head_dim]\n",
        "        output = output.transpose(1, 2).contiguous()\n",
        "\n",
        "        # Reshaping to get dimensions [batch_size, seq_len, d_model]\n",
        "        output = output.view(batch_size, -1, self.d_model)\n",
        "\n",
        "        # Applying linear layer\n",
        "        output = self.fc_out(output)\n",
        "\n",
        "        return output\n",
        "\n",
        "class PositionalEncoding(nn.Module):\n",
        "    def __init__(self, d_model, max_len=512):\n",
        "        super(PositionalEncoding, self).__init__()\n",
        "        position = torch.arange(0, max_len).unsqueeze(1).float()\n",
        "        div_term = torch.exp(torch.arange(0, d_model, 2).float() * -(math.log(10000.0) / d_model))\n",
        "        pe = torch.zeros(max_len, d_model)\n",
        "        pe[:, 0::2] = torch.sin(position * div_term)\n",
        "        pe[:, 1::2] = torch.cos(position * div_term)\n",
        "        pe = pe.unsqueeze(0)  # Add batch dimension\n",
        "\n",
        "        self.register_buffer('pe', pe)\n",
        "\n",
        "    def forward(self, x):\n",
        "        return x + self.pe[:, :x.size(1)]\n",
        "\n",
        "class TransformerModel(nn.Module):\n",
        "    def __init__(self, vocab_size, d_model, n_heads, num_layers, max_len, output_dim):\n",
        "        super(TransformerModel, self).__init__()\n",
        "\n",
        "        self.embedding = nn.Embedding(vocab_size, d_model)\n",
        "        self.positional_encoding = PositionalEncoding(d_model, max_len)\n",
        "        self.transformer_encoder = nn.TransformerEncoder(\n",
        "            nn.TransformerEncoderLayer(d_model, nhead=n_heads),\n",
        "            num_layers=num_layers\n",
        "        )\n",
        "        self.fc = nn.Linear(d_model, output_dim)\n",
        "\n",
        "    def forward(self, x, mask):\n",
        "        x = self.embedding(x)\n",
        "        x = x + self.positional_encoding(x)\n",
        "        key_padding_mask = (x.sum(dim=-1) == 0).transpose(0, 1)  # 2D key_padding_mask\n",
        "\n",
        "        x = self.transformer_encoder(x, src_key_padding_mask=key_padding_mask)\n",
        "        x = x.mean(dim=1)\n",
        "        x = self.fc(x)\n",
        "        return x"
      ]
    },
    {
      "cell_type": "code",
      "execution_count": null,
      "metadata": {
        "id": "5QpPyvY0_rhd"
      },
      "outputs": [],
      "source": [
        "# Transformer Model Hyperparameters\n",
        "vocab_size = len(tokenizer.word_index) + 1\n",
        "d_model = 256\n",
        "n_heads = 8          # Number of attention heads\n",
        "num_layers = 4       # Number of transformer layers\n",
        "max_len = max_seq_length  # Maximum sequence length\n",
        "output_dim = 3       # Number of output classes (positive, negative, neutral)\n"
      ]
    },
    {
      "cell_type": "code",
      "execution_count": null,
      "metadata": {
        "colab": {
          "base_uri": "https://localhost:8080/"
        },
        "id": "QYLIb1xS_v9e",
        "outputId": "fc535668-25bb-4cbd-929d-ae0ec2ba5791"
      },
      "outputs": [
        {
          "output_type": "stream",
          "name": "stderr",
          "text": [
            "/usr/local/lib/python3.10/dist-packages/torch/nn/modules/transformer.py:282: UserWarning: enable_nested_tensor is True, but self.use_nested_tensor is False because encoder_layer.self_attn.batch_first was not True(use batch_first for better inference performance)\n",
            "  warnings.warn(f\"enable_nested_tensor is True, but self.use_nested_tensor is False because {why_not_sparsity_fast_path}\")\n"
          ]
        }
      ],
      "source": [
        "model1 = TransformerModel(vocab_size, d_model, n_heads, num_layers, max_len, output_dim)"
      ]
    },
    {
      "cell_type": "code",
      "execution_count": null,
      "metadata": {
        "id": "iYaJfPxx_wtn"
      },
      "outputs": [],
      "source": [
        "X_train, X_val, y_train, y_val = train_test_split(padded_sequences, train_data['sentiment_label'], test_size=0.2, random_state=42)\n"
      ]
    },
    {
      "cell_type": "code",
      "execution_count": null,
      "metadata": {
        "id": "4abNP2YN_z08",
        "colab": {
          "base_uri": "https://localhost:8080/",
          "height": 654
        },
        "outputId": "11462806-2111-47e6-f679-7be4ca59c122"
      },
      "outputs": [
        {
          "output_type": "stream",
          "name": "stdout",
          "text": [
            "Epoch 1/10, Training Loss: 0.7761, Training Accuracy: 0.6902, Validation Accuracy: 0.7565\n",
            "Epoch 2/10, Training Loss: 0.6031, Training Accuracy: 0.7735, Validation Accuracy: 0.8021\n",
            "Epoch 3/10, Training Loss: 0.5198, Training Accuracy: 0.8092, Validation Accuracy: 0.8247\n",
            "Epoch 4/10, Training Loss: 0.4795, Training Accuracy: 0.8223, Validation Accuracy: 0.8274\n",
            "Epoch 5/10, Training Loss: 0.4548, Training Accuracy: 0.8313, Validation Accuracy: 0.8346\n",
            "Epoch 6/10, Training Loss: 0.4371, Training Accuracy: 0.8377, Validation Accuracy: 0.8428\n",
            "Epoch 7/10, Training Loss: 0.4189, Training Accuracy: 0.8433, Validation Accuracy: 0.8407\n",
            "Epoch 8/10, Training Loss: 0.4074, Training Accuracy: 0.8485, Validation Accuracy: 0.8454\n",
            "Epoch 9/10, Training Loss: 0.3974, Training Accuracy: 0.8512, Validation Accuracy: 0.8404\n",
            "Epoch 10/10, Training Loss: 0.3899, Training Accuracy: 0.8536, Validation Accuracy: 0.8492\n"
          ]
        },
        {
          "output_type": "display_data",
          "data": {
            "text/plain": [
              "<Figure size 640x480 with 1 Axes>"
            ],
            "image/png": "[encoded data removed]"
          },
          "metadata": {}
        }
      ],
      "source": [
        "# Converting data to PyTorch tensors\n",
        "X_train_tensor = torch.tensor(X_train, dtype=torch.long)\n",
        "y_train_tensor = torch.tensor(y_train.values, dtype=torch.long)\n",
        "X_val_tensor = torch.tensor(X_val, dtype=torch.long)\n",
        "y_val_tensor = torch.tensor(y_val.values, dtype=torch.long)\n",
        "\n",
        "# Creating DataLoader for training and validation\n",
        "train_dataset = TensorDataset(X_train_tensor, y_train_tensor)\n",
        "val_dataset = TensorDataset(X_val_tensor, y_val_tensor)\n",
        "\n",
        "batch_size = 32\n",
        "train_loader = DataLoader(train_dataset, batch_size=batch_size, shuffle=True)\n",
        "val_loader = DataLoader(val_dataset, batch_size=batch_size, shuffle=False)\n",
        "\n",
        "# Transformer model, optimizer, and loss function\n",
        "device = torch.device(\"cuda\" if torch.cuda.is_available() else \"cpu\")\n",
        "\n",
        "model = TransformerModel(vocab_size, d_model, n_heads, num_layers, max_len, output_dim).to(device)\n",
        "optimizer = optim.SGD(model.parameters(), lr=0.001, momentum=0.9)\n",
        "criterion = nn.CrossEntropyLoss()\n",
        "\n",
        "# Training loop\n",
        "num_epochs = 10\n",
        "best_val_accuracy = 0.0\n",
        "train_accuracies = []\n",
        "\n",
        "for epoch in range(num_epochs):\n",
        "    model.train()\n",
        "    total_loss = 0.0\n",
        "    correct_predictions = 0\n",
        "    total_samples = 0\n",
        "\n",
        "    for batch_X, batch_y in train_loader:\n",
        "        batch_X, batch_y = batch_X.to(device), batch_y.to(device)\n",
        "        optimizer.zero_grad()\n",
        "        outputs = model(batch_X, mask=(batch_X != 0))\n",
        "        outputs = outputs.to(device)\n",
        "        loss = criterion(outputs, batch_y)\n",
        "        loss.backward()\n",
        "        optimizer.step()\n",
        "        total_loss += loss.item()\n",
        "\n",
        "        # training accuracy\n",
        "        _, predicted_labels = torch.max(outputs, 1)\n",
        "        correct_predictions += (predicted_labels == batch_y).sum().item()\n",
        "        total_samples += batch_y.size(0)\n",
        "\n",
        "    avg_loss = total_loss / len(train_loader)\n",
        "    train_accuracy = correct_predictions / total_samples\n",
        "    train_accuracies.append(train_accuracy)\n",
        "\n",
        "    # Validation\n",
        "    model.eval()\n",
        "    val_predictions = []\n",
        "    val_targets = []\n",
        "\n",
        "    with torch.no_grad():\n",
        "        for val_X, val_y in val_loader:\n",
        "            val_X, val_y = val_X.to(device), val_y.to(device)\n",
        "            val_outputs = model(val_X, mask=(val_X != 0).to(device))\n",
        "            val_predictions.extend(torch.argmax(val_outputs, dim=1).to(device).cpu().numpy())\n",
        "            val_targets.extend(val_y.to(device).cpu().numpy())\n",
        "\n",
        "    val_accuracy = accuracy_score(val_targets, val_predictions)\n",
        "\n",
        "    print(f\"Epoch {epoch + 1}/{num_epochs}, Training Loss: {avg_loss:.4f}, Training Accuracy: {train_accuracy:.4f}, Validation Accuracy: {val_accuracy:.4f}\")\n",
        "\n",
        "    # Save the model if it has the highest validation accuracy so far\n",
        "    if val_accuracy > best_val_accuracy:\n",
        "        best_val_accuracy = val_accuracy\n",
        "        torch.save(model.state_dict(), 'best_model.pth')\n",
        "\n",
        "# Plot the training curve\n",
        "plt.plot(range(1, num_epochs + 1), train_accuracies, label='Training Accuracy')\n",
        "plt.xlabel('Epochs')\n",
        "plt.ylabel('Accuracy')\n",
        "plt.title('Training Curve for Model1')\n",
        "plt.legend()\n",
        "plt.show()\n"
      ]
    },
    {
      "cell_type": "code",
      "execution_count": null,
      "metadata": {
        "id": "5ClI6tva_3nv",
        "colab": {
          "base_uri": "https://localhost:8080/"
        },
        "outputId": "daf13230-e3ab-460d-bb12-a92c93e5abb9"
      },
      "outputs": [
        {
          "output_type": "stream",
          "name": "stderr",
          "text": [
            "/usr/local/lib/python3.10/dist-packages/torch/nn/modules/transformer.py:282: UserWarning: enable_nested_tensor is True, but self.use_nested_tensor is False because encoder_layer.self_attn.batch_first was not True(use batch_first for better inference performance)\n",
            "  warnings.warn(f\"enable_nested_tensor is True, but self.use_nested_tensor is False because {why_not_sparsity_fast_path}\")\n"
          ]
        },
        {
          "output_type": "stream",
          "name": "stdout",
          "text": [
            "Model1 Test Accuracy:0.8510729613733906\n"
          ]
        }
      ],
      "source": [
        "X_test = test_padded_sequences\n",
        "y_test = test_data['sentiment_label']\n",
        "\n",
        "X_test_tensor = torch.tensor(X_test, dtype=torch.long)\n",
        "y_test_tensor = torch.tensor(y_test.values, dtype=torch.long)\n",
        "\n",
        "# Create DataLoader for training and validation\n",
        "test_dataset = TensorDataset(X_test_tensor, y_test_tensor)\n",
        "\n",
        "batch_size = 32\n",
        "test_loader = DataLoader(test_dataset, batch_size=batch_size, shuffle=True)\n",
        "\n",
        "model = TransformerModel(vocab_size, d_model, n_heads, num_layers, max_len, output_dim).to(device)\n",
        "\n",
        "# Load the best model saved during training\n",
        "model.load_state_dict(torch.load('best_model.pth'))\n",
        "# Set the model to evaluation mode\n",
        "model.eval()\n",
        "\n",
        "# Define the loss function (if needed)\n",
        "criterion = nn.CrossEntropyLoss()\n",
        "\n",
        "# Evaluate the model on the test set\n",
        "correct_predictions = 0\n",
        "total_samples = 0\n",
        "\n",
        "test_predictions = []\n",
        "test_targets = []\n",
        "\n",
        "with torch.no_grad():\n",
        "    for test_X, test_y in test_loader:\n",
        "        test_X, test_y = test_X.to(device), test_y.to(device)\n",
        "        test_outputs = model(test_X, mask=(test_X != 0))\n",
        "        test_predictions.extend(torch.argmax(test_outputs, dim=1).to(device).cpu().numpy())\n",
        "        test_targets.extend(test_y.to(device).cpu().numpy())\n",
        "\n",
        "    test_accuracy = accuracy_score(test_targets, test_predictions)\n",
        "\n",
        "print(\"Model1 Test Accuracy:{}\".format(test_accuracy))"
      ]
    },
    {
      "cell_type": "code",
      "source": [
        "# confusion matrix\n",
        "conf_matrix = confusion_matrix(test_targets, test_predictions)\n",
        "\n",
        "print(\"Model1 Confusion Matrix:\")\n",
        "print(conf_matrix)\n",
        "\n",
        "# classification report\n",
        "print(\"\\n Model1 Classification Report:\")\n",
        "print(classification_report(test_targets, test_predictions))"
      ],
      "metadata": {
        "id": "P1QT7WJ_F1GU",
        "colab": {
          "base_uri": "https://localhost:8080/"
        },
        "outputId": "85dbfb3c-fcb2-4ab2-c87d-164679876710"
      },
      "execution_count": null,
      "outputs": [
        {
          "output_type": "stream",
          "name": "stdout",
          "text": [
            "Model1 Confusion Matrix:\n",
            "[[9051  243  125]\n",
            " [ 424 2596  125]\n",
            " [ 777  388  251]]\n",
            "\n",
            " Model1 Classification Report:\n",
            "              precision    recall  f1-score   support\n",
            "\n",
            "           0       0.88      0.96      0.92      9419\n",
            "           1       0.80      0.83      0.81      3145\n",
            "           2       0.50      0.18      0.26      1416\n",
            "\n",
            "    accuracy                           0.85     13980\n",
            "   macro avg       0.73      0.65      0.67     13980\n",
            "weighted avg       0.83      0.85      0.83     13980\n",
            "\n"
          ]
        }
      ]
    },
    {
      "cell_type": "code",
      "execution_count": null,
      "metadata": {
        "id": "JbCHODHhF7SY"
      },
      "outputs": [],
      "source": [
        "# Transformer Model Hyperparameters\n",
        "vocab_size = len(tokenizer.word_index) + 1\n",
        "d_model = 128\n",
        "n_heads = 4          # Number of attention heads\n",
        "num_layers = 3       # Number of transformer layers\n",
        "max_len = max_seq_length  # Maximum sequence length\n",
        "output_dim = 3       # Number of output classes (positive, negative, neutral)\n"
      ]
    },
    {
      "cell_type": "code",
      "source": [
        "model2 = TransformerModel(vocab_size, d_model, n_heads, num_layers, max_len, output_dim)"
      ],
      "metadata": {
        "id": "ODsQZOzqF1XZ",
        "colab": {
          "base_uri": "https://localhost:8080/"
        },
        "outputId": "d3f92f81-3812-457c-d9db-bae7c783807c"
      },
      "execution_count": null,
      "outputs": [
        {
          "output_type": "stream",
          "name": "stderr",
          "text": [
            "/usr/local/lib/python3.10/dist-packages/torch/nn/modules/transformer.py:282: UserWarning: enable_nested_tensor is True, but self.use_nested_tensor is False because encoder_layer.self_attn.batch_first was not True(use batch_first for better inference performance)\n",
            "  warnings.warn(f\"enable_nested_tensor is True, but self.use_nested_tensor is False because {why_not_sparsity_fast_path}\")\n"
          ]
        }
      ]
    },
    {
      "cell_type": "code",
      "source": [
        "# Convert data to PyTorch tensors\n",
        "X_train_tensor = torch.tensor(X_train, dtype=torch.long)\n",
        "y_train_tensor = torch.tensor(y_train.values, dtype=torch.long)\n",
        "X_val_tensor = torch.tensor(X_val, dtype=torch.long)\n",
        "y_val_tensor = torch.tensor(y_val.values, dtype=torch.long)\n",
        "\n",
        "# DataLoader for training and validation\n",
        "train_dataset = TensorDataset(X_train_tensor, y_train_tensor)\n",
        "val_dataset = TensorDataset(X_val_tensor, y_val_tensor)\n",
        "\n",
        "batch_size = 32\n",
        "train_loader = DataLoader(train_dataset, batch_size=batch_size, shuffle=True)\n",
        "val_loader = DataLoader(val_dataset, batch_size=batch_size, shuffle=False)\n",
        "\n",
        "# Define the Transformer model, optimizer, and loss function\n",
        "device = torch.device(\"cuda\" if torch.cuda.is_available() else \"cpu\")\n",
        "\n",
        "model = TransformerModel(vocab_size, d_model, n_heads, num_layers, max_len, output_dim).to(device)\n",
        "optimizer = optim.SGD(model.parameters(), lr=0.001, momentum=0.9)\n",
        "criterion = nn.CrossEntropyLoss()\n",
        "\n",
        "# Training loop\n",
        "num_epochs = 10\n",
        "best_val_accuracy = 0.0\n",
        "train_accuracies = []\n",
        "\n",
        "for epoch in range(num_epochs):\n",
        "    model.train()\n",
        "    total_loss = 0.0\n",
        "    correct_predictions = 0\n",
        "    total_samples = 0\n",
        "\n",
        "    for batch_X, batch_y in train_loader:\n",
        "        batch_X, batch_y = batch_X.to(device), batch_y.to(device)\n",
        "        optimizer.zero_grad()\n",
        "        outputs = model(batch_X, mask=(batch_X != 0))\n",
        "        outputs = outputs.to(device)\n",
        "        loss = criterion(outputs, batch_y)\n",
        "        loss.backward()\n",
        "        optimizer.step()\n",
        "        total_loss += loss.item()\n",
        "\n",
        "        # training accuracy\n",
        "        _, predicted_labels = torch.max(outputs, 1)\n",
        "        correct_predictions += (predicted_labels == batch_y).sum().item()\n",
        "        total_samples += batch_y.size(0)\n",
        "\n",
        "    avg_loss = total_loss / len(train_loader)\n",
        "    train_accuracy = correct_predictions / total_samples\n",
        "    train_accuracies.append(train_accuracy)\n",
        "\n",
        "    # Validation\n",
        "    model.eval()\n",
        "    val_predictions = []\n",
        "    val_targets = []\n",
        "\n",
        "    with torch.no_grad():\n",
        "        for val_X, val_y in val_loader:\n",
        "            val_X, val_y = val_X.to(device), val_y.to(device)\n",
        "            val_outputs = model(val_X, mask=(val_X != 0).to(device))\n",
        "            val_predictions.extend(torch.argmax(val_outputs, dim=1).to(device).cpu().numpy())\n",
        "            val_targets.extend(val_y.to(device).cpu().numpy())\n",
        "\n",
        "    val_accuracy = accuracy_score(val_targets, val_predictions)\n",
        "\n",
        "    print(f\"Epoch {epoch + 1}/{num_epochs}, Training Loss: {avg_loss:.4f}, Training Accuracy: {train_accuracy:.4f}, Validation Accuracy: {val_accuracy:.4f}\")\n",
        "\n",
        "    # Save the model if it has the highest validation accuracy so far\n",
        "    if val_accuracy > best_val_accuracy:\n",
        "        best_val_accuracy = val_accuracy\n",
        "        torch.save(model.state_dict(), 'best_model.pth')\n",
        "\n",
        "# Plot the training curve\n",
        "plt.plot(range(1, num_epochs + 1), train_accuracies, label='Training Accuracy')\n",
        "plt.xlabel('Epochs')\n",
        "plt.ylabel('Accuracy')\n",
        "plt.title('Training Curve for Model2')\n",
        "plt.legend()\n",
        "plt.show()\n"
      ],
      "metadata": {
        "id": "f4mZBGvaF1lj",
        "colab": {
          "base_uri": "https://localhost:8080/",
          "height": 654
        },
        "outputId": "d21d815b-8997-4289-8a7c-1ca215886a9e"
      },
      "execution_count": null,
      "outputs": [
        {
          "output_type": "stream",
          "name": "stdout",
          "text": [
            "Epoch 1/10, Training Loss: 0.7801, Training Accuracy: 0.6884, Validation Accuracy: 0.7077\n",
            "Epoch 2/10, Training Loss: 0.6473, Training Accuracy: 0.7525, Validation Accuracy: 0.7828\n",
            "Epoch 3/10, Training Loss: 0.5551, Training Accuracy: 0.7945, Validation Accuracy: 0.8107\n",
            "Epoch 4/10, Training Loss: 0.5104, Training Accuracy: 0.8120, Validation Accuracy: 0.8150\n",
            "Epoch 5/10, Training Loss: 0.4836, Training Accuracy: 0.8209, Validation Accuracy: 0.8278\n",
            "Epoch 6/10, Training Loss: 0.4652, Training Accuracy: 0.8272, Validation Accuracy: 0.8316\n",
            "Epoch 7/10, Training Loss: 0.4486, Training Accuracy: 0.8345, Validation Accuracy: 0.8292\n",
            "Epoch 8/10, Training Loss: 0.4376, Training Accuracy: 0.8381, Validation Accuracy: 0.8380\n",
            "Epoch 9/10, Training Loss: 0.4268, Training Accuracy: 0.8416, Validation Accuracy: 0.8413\n",
            "Epoch 10/10, Training Loss: 0.4169, Training Accuracy: 0.8443, Validation Accuracy: 0.8454\n"
          ]
        },
        {
          "output_type": "display_data",
          "data": {
            "text/plain": [
              "<Figure size 640x480 with 1 Axes>"
            ],
            "image/png": "[encoded data removed]"
          },
          "metadata": {}
        }
      ]
    },
    {
      "cell_type": "code",
      "source": [
        "X_test = test_padded_sequences\n",
        "y_test = test_data['sentiment_label']\n",
        "\n",
        "X_test_tensor = torch.tensor(X_test, dtype=torch.long)\n",
        "y_test_tensor = torch.tensor(y_test.values, dtype=torch.long)\n",
        "\n",
        "# DataLoader for training and validation\n",
        "test_dataset = TensorDataset(X_test_tensor, y_test_tensor)\n",
        "\n",
        "batch_size = 32\n",
        "test_loader = DataLoader(test_dataset, batch_size=batch_size, shuffle=True)\n",
        "\n",
        "model = TransformerModel(vocab_size, d_model, n_heads, num_layers, max_len, output_dim).to(device)\n",
        "\n",
        "# best model saved during training\n",
        "model.load_state_dict(torch.load('best_model.pth'))  # Replace with the actual path\n",
        "\n",
        "# evaluation mode\n",
        "model.eval()\n",
        "\n",
        "# loss function\n",
        "criterion = nn.CrossEntropyLoss()\n",
        "\n",
        "# Evaluating the model on the test set\n",
        "correct_predictions = 0\n",
        "total_samples = 0\n",
        "\n",
        "test_predictions = []\n",
        "test_targets = []\n",
        "\n",
        "with torch.no_grad():\n",
        "    for test_X, test_y in test_loader:\n",
        "        test_X, test_y = test_X.to(device), test_y.to(device)\n",
        "        test_outputs = model(test_X, mask=(test_X != 0))\n",
        "        test_predictions.extend(torch.argmax(test_outputs, dim=1).to(device).cpu().numpy())\n",
        "        test_targets.extend(test_y.to(device).cpu().numpy())\n",
        "\n",
        "    test_accuracy = accuracy_score(test_targets, test_predictions)\n",
        "\n",
        "print(\"Model2 Test Accuracy:{}\".format(test_accuracy))"
      ],
      "metadata": {
        "id": "KBqGxe3xH_cn",
        "colab": {
          "base_uri": "https://localhost:8080/"
        },
        "outputId": "a2a5b5dd-769d-420d-ede1-68a1109a31f0"
      },
      "execution_count": null,
      "outputs": [
        {
          "output_type": "stream",
          "name": "stderr",
          "text": [
            "/usr/local/lib/python3.10/dist-packages/torch/nn/modules/transformer.py:282: UserWarning: enable_nested_tensor is True, but self.use_nested_tensor is False because encoder_layer.self_attn.batch_first was not True(use batch_first for better inference performance)\n",
            "  warnings.warn(f\"enable_nested_tensor is True, but self.use_nested_tensor is False because {why_not_sparsity_fast_path}\")\n"
          ]
        },
        {
          "output_type": "stream",
          "name": "stdout",
          "text": [
            "Model2 Test Accuracy:0.8471387696709585\n"
          ]
        }
      ]
    },
    {
      "cell_type": "code",
      "source": [
        "# confusion matrix\n",
        "conf_matrix = confusion_matrix(test_targets, test_predictions)\n",
        "\n",
        "\n",
        "print(\"Model2 Confusion Matrix:\")\n",
        "print(conf_matrix)\n",
        "\n",
        "# classification report\n",
        "print(\"\\n Model2 Classification Report:\")\n",
        "print(classification_report(test_targets, test_predictions))"
      ],
      "metadata": {
        "id": "lKhwYNUfIAgN",
        "colab": {
          "base_uri": "https://localhost:8080/"
        },
        "outputId": "2038a6c0-6699-476f-d37e-03a1be2a0653"
      },
      "execution_count": null,
      "outputs": [
        {
          "output_type": "stream",
          "name": "stdout",
          "text": [
            "Model2 Confusion Matrix:\n",
            "[[9067  274   78]\n",
            " [ 442 2624   79]\n",
            " [ 839  425  152]]\n",
            "\n",
            " Model2 Classification Report:\n",
            "              precision    recall  f1-score   support\n",
            "\n",
            "           0       0.88      0.96      0.92      9419\n",
            "           1       0.79      0.83      0.81      3145\n",
            "           2       0.49      0.11      0.18      1416\n",
            "\n",
            "    accuracy                           0.85     13980\n",
            "   macro avg       0.72      0.63      0.63     13980\n",
            "weighted avg       0.82      0.85      0.82     13980\n",
            "\n"
          ]
        }
      ]
    }
  ],
  "metadata": {
    "accelerator": "GPU",
    "colab": {
      "provenance": []
    },
    "kernelspec": {
      "display_name": "Python 3",
      "name": "python3"
    },
    "language_info": {
      "name": "python"
    }
  },
  "nbformat": 4,
  "nbformat_minor": 0
}